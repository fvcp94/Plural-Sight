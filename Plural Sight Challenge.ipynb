{
 "cells": [
  {
   "cell_type": "code",
   "execution_count": 8,
   "id": "a7db093f",
   "metadata": {},
   "outputs": [],
   "source": [
    "import pandas as pd\n",
    "from sklearn.model_selection import train_test_split, GridSearchCV\n",
    "from sklearn.ensemble import RandomForestClassifier\n",
    "from sklearn.preprocessing import StandardScaler\n",
    "from sklearn.metrics import (\n",
    "    accuracy_score, recall_score, precision_score,\n",
    "    f1_score, roc_auc_score, classification_report, confusion_matrix\n",
    ")"
   ]
  },
  {
   "cell_type": "code",
   "execution_count": 2,
   "id": "a39789f7",
   "metadata": {},
   "outputs": [],
   "source": [
    "train_df = pd.read_excel(\"recruiting_zeta-disease_training-data_take-home-challenge.xlsx\")\n",
    "test_df = pd.read_excel(\"recruiting_zeta-disease_prediction-data_take-home-challenge.xlsx\")"
   ]
  },
  {
   "cell_type": "code",
   "execution_count": 10,
   "id": "f60f9af8",
   "metadata": {},
   "outputs": [],
   "source": [
    "features = [\n",
    "    'age', 'weight', 'bmi', 'blood_pressure', 'insulin_test',\n",
    "    'liver_stress_test', 'cardio_stress_test', 'years_smoking'\n",
    "]"
   ]
  },
  {
   "cell_type": "code",
   "execution_count": 11,
   "id": "80f41128",
   "metadata": {},
   "outputs": [],
   "source": [
    "for i in features:\n",
    "    lower = train_df[i].quantile(0.01)\n",
    "    upper = train_df[i].quantile(0.99)\n",
    "    train_df[i] = train_df[i].clip(lower, upper)\n",
    "    test_df[i] = test_df[i].clip(lower, upper)"
   ]
  },
  {
   "cell_type": "code",
   "execution_count": 12,
   "id": "11ee667c",
   "metadata": {},
   "outputs": [],
   "source": [
    "train_df['age_smoke'] = train_df['age'] * train_df['years_smoking']\n",
    "test_df['age_smoke'] = test_df['age'] * test_df['years_smoking']\n",
    "\n",
    "train_df['bmi_age_ratio'] = train_df['bmi'] / (train_df['age'] + 1)\n",
    "test_df['bmi_age_ratio'] = test_df['bmi'] / (test_df['age'] + 1)\n",
    "\n",
    "train_df['total_stress'] = train_df['liver_stress_test'] + train_df['cardio_stress_test']\n",
    "test_df['total_stress'] = test_df['liver_stress_test'] + test_df['cardio_stress_test']\n",
    "\n",
    "features += ['age_smoke', 'bmi_age_ratio', 'total_stress']"
   ]
  },
  {
   "cell_type": "code",
   "execution_count": 13,
   "id": "8f1a799e",
   "metadata": {},
   "outputs": [],
   "source": [
    "X = train_df[features]\n",
    "y = train_df['zeta_disease'].astype(int)\n",
    "X_test = test_df[features]"
   ]
  },
  {
   "cell_type": "code",
   "execution_count": 14,
   "id": "d0557a70",
   "metadata": {},
   "outputs": [],
   "source": [
    "scaler = StandardScaler()\n",
    "X_scaled = scaler.fit_transform(X)\n",
    "X_test_scaled = scaler.transform(X_test)"
   ]
  },
  {
   "cell_type": "code",
   "execution_count": 15,
   "id": "fc261a97",
   "metadata": {},
   "outputs": [],
   "source": [
    "X_train, X_val, y_train, y_val = train_test_split(\n",
    "    X_scaled, y, test_size=0.2, random_state=42, stratify=y\n",
    ")"
   ]
  },
  {
   "cell_type": "code",
   "execution_count": 16,
   "id": "c21d0a8d",
   "metadata": {},
   "outputs": [],
   "source": [
    "param_grid = {\n",
    "    'n_estimators': [100, 200],\n",
    "    'max_depth': [10, None],\n",
    "    'min_samples_split': [2, 5],\n",
    "    'min_samples_leaf': [1, 2]\n",
    "}"
   ]
  },
  {
   "cell_type": "code",
   "execution_count": 17,
   "id": "35d853ee",
   "metadata": {},
   "outputs": [
    {
     "data": {
      "text/plain": [
       "GridSearchCV(cv=5,\n",
       "             estimator=RandomForestClassifier(class_weight='balanced',\n",
       "                                              random_state=42),\n",
       "             n_jobs=-1,\n",
       "             param_grid={'max_depth': [10, None], 'min_samples_leaf': [1, 2],\n",
       "                         'min_samples_split': [2, 5],\n",
       "                         'n_estimators': [100, 200]},\n",
       "             scoring='recall')"
      ]
     },
     "execution_count": 17,
     "metadata": {},
     "output_type": "execute_result"
    }
   ],
   "source": [
    "rf = RandomForestClassifier(class_weight='balanced', random_state=42)\n",
    "grid = GridSearchCV(rf, param_grid, scoring='recall', cv=5, n_jobs=-1)\n",
    "grid.fit(X_train, y_train)"
   ]
  },
  {
   "cell_type": "code",
   "execution_count": 23,
   "id": "3a0f06e1",
   "metadata": {},
   "outputs": [],
   "source": [
    "best_model = grid.best_estimator_\n",
    "y_pred = best_model.predict(X_val)\n",
    "y_proba = best_model.predict_proba(X_val)[:, 1]"
   ]
  },
  {
   "cell_type": "code",
   "execution_count": 24,
   "id": "3fa5f0df",
   "metadata": {},
   "outputs": [
    {
     "name": "stdout",
     "output_type": "stream",
     "text": [
      "Best Parameters: {'max_depth': 10, 'min_samples_leaf': 2, 'min_samples_split': 2, 'n_estimators': 200}\n",
      "Accuracy: 0.7625\n",
      "Recall: 0.6428571428571429\n",
      "Precision: 0.6666666666666666\n",
      "F1 Score: 0.6545454545454545\n",
      "ROC AUC Score: 0.8246909340659341\n",
      "Confusion Matrix:\n",
      " [[86 18]\n",
      " [20 36]]\n",
      "Classification Report:\n",
      "               precision    recall  f1-score   support\n",
      "\n",
      "           0       0.81      0.83      0.82       104\n",
      "           1       0.67      0.64      0.65        56\n",
      "\n",
      "    accuracy                           0.76       160\n",
      "   macro avg       0.74      0.73      0.74       160\n",
      "weighted avg       0.76      0.76      0.76       160\n",
      "\n"
     ]
    }
   ],
   "source": [
    "print(\"Best Parameters:\", grid.best_params_)\n",
    "print(\"Accuracy:\", accuracy_score(y_val, y_pred))\n",
    "print(\"Recall:\", recall_score(y_val, y_pred))\n",
    "print(\"Precision:\", precision_score(y_val, y_pred))\n",
    "print(\"F1 Score:\", f1_score(y_val, y_pred))\n",
    "print(\"ROC AUC Score:\", roc_auc_score(y_val, y_proba))\n",
    "print(\"Confusion Matrix:\\n\", confusion_matrix(y_val, y_pred))\n",
    "print(\"Classification Report:\\n\", classification_report(y_val, y_pred))"
   ]
  },
  {
   "cell_type": "code",
   "execution_count": null,
   "id": "2f6b5b3d",
   "metadata": {},
   "outputs": [],
   "source": [
    "best_model = grid.best_estimator_\n",
    "y_pred = best_model.predict(X_test_scaled)\n",
    "y_proba = best_model.predict_proba(X_test_scaled)[:, 1]"
   ]
  },
  {
   "cell_type": "code",
   "execution_count": null,
   "id": "06cb71a7",
   "metadata": {},
   "outputs": [],
   "source": []
  }
 ],
 "metadata": {
  "kernelspec": {
   "display_name": "Python 3 (ipykernel)",
   "language": "python",
   "name": "python3"
  },
  "language_info": {
   "codemirror_mode": {
    "name": "ipython",
    "version": 3
   },
   "file_extension": ".py",
   "mimetype": "text/x-python",
   "name": "python",
   "nbconvert_exporter": "python",
   "pygments_lexer": "ipython3",
   "version": "3.9.13"
  }
 },
 "nbformat": 4,
 "nbformat_minor": 5
}
